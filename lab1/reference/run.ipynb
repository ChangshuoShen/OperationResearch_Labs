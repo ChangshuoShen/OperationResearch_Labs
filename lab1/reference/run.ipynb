{
 "cells": [
  {
   "cell_type": "code",
   "execution_count": 1,
   "metadata": {},
   "outputs": [],
   "source": [
    "import numpy as np\n",
    "\n",
    "# 模块0：转换标准形式  但是好像也用不到,那就先不写\n",
    "def convert_to_standard_form(c, A, b):\n",
    "    \"\"\"\n",
    "    \n",
    "    \"\"\"\n",
    "    index = []\n",
    "    for i in range(len(b)):\n",
    "        if np.all(A[i,:]==0):\n",
    "            index.append(i)\n",
    "    A = np.delete(A, index, axis=0)\n",
    "    b = np.delete(b, index, axis=0)\n",
    "    return c, A, b"
   ]
  },
  {
   "cell_type": "code",
   "execution_count": 2,
   "metadata": {},
   "outputs": [
    {
     "name": "stdout",
     "output_type": "stream",
     "text": [
      "[-5 -3  1] \n",
      " [[1 2 3]\n",
      " [2 4 6]] \n",
      " \n",
      " [2 4]\n"
     ]
    }
   ],
   "source": [
    "# 定义一个线性规划问题\n",
    "c = np.array([-5, -3, 1])  # 目标函数系数\n",
    "A = np.array([[1, 2, 3], [2, 4, 6]])  # 约束矩阵\n",
    "b = np.array([2, 4])  # 右侧常数\n",
    "\n",
    "# 模块0：转换标准形式\n",
    "c_std, A_std, b_std = convert_to_standard_form(c, A, b)\n",
    "print(c_std,'\\n',A_std,'\\n','\\n',b_std)"
   ]
  },
  {
   "cell_type": "code",
   "execution_count": 3,
   "metadata": {},
   "outputs": [
    {
     "name": "stdout",
     "output_type": "stream",
     "text": [
      "(array([[1, 2, 3]]), array([2]))\n"
     ]
    }
   ],
   "source": [
    "# 模块1：检查A是否行满秩，移除多余的约束， 这里检查(A,b)是否满秩\n",
    "def remove_redundant_constraints(A, b): \n",
    "    \"\"\"\n",
    "    检查并移除冗余约束，返回去冗余后的 A 和 b\n",
    "    使用方法2，但方法2真的行吗\n",
    "    \"\"\"\n",
    "    A = np.column_stack((A,b))\n",
    "    # print(A)\n",
    "    q,r = np.linalg.qr(A.T)\n",
    "    index = np.abs(np.diag(r ) )> 1e-6 # 得到正常的数组\n",
    "    B = (A.T[:,index]).T\n",
    "    return B[:,:-1], B[:,-1]  # 直接也解决了系数全为0的问题\n",
    "\n",
    "print(remove_redundant_constraints(A,b))\n",
    "A ,b = remove_redundant_constraints(A,b)"
   ]
  },
  {
   "cell_type": "code",
   "execution_count": 4,
   "metadata": {},
   "outputs": [],
   "source": [
    "# 模块2：初始化可行基解：大M法\n",
    "def initialize_feasible_solution(A, b, c):\n",
    "    \"\"\"\n",
    "    使用大M法初始化一个可行基解\n",
    "    \"\"\"\n",
    "    m, n = A.shape\n",
    "    M = 1e6  # 极大的常数M\n",
    "    artificial_vars = np.eye(m) # 人工变量的系数\n",
    "    \n",
    "    # 增加人工变量\n",
    "    A_aug = np.hstack([A, artificial_vars])\n",
    "    c_aug = np.hstack([c, M * np.ones(m)])\n",
    "\n",
    "    # 初始化人工变量\n",
    "    x1 = np.copy(b) # 人工变量的地址\n",
    "    x0 = np.zeros(n)\n",
    "    init_basic = np.concatenate([x0,x1])\n",
    "    return A_aug, c_aug, init_basic"
   ]
  },
  {
   "cell_type": "code",
   "execution_count": 5,
   "metadata": {},
   "outputs": [
    {
     "name": "stdout",
     "output_type": "stream",
     "text": [
      "[[1. 2. 3. 1.]] [-5.e+00 -3.e+00  1.e+00  1.e+06] [0. 0. 0. 2.]\n",
      "[2]\n"
     ]
    }
   ],
   "source": [
    "A_aug, c_aug, init_basic=initialize_feasible_solution(A,b, c)\n",
    "print(A_aug, c_aug, init_basic)\n",
    "print(b)"
   ]
  },
  {
   "cell_type": "code",
   "execution_count": 6,
   "metadata": {},
   "outputs": [
    {
     "data": {
      "text/plain": [
       "array([2., 0., 0., 0.])"
      ]
     },
     "execution_count": 6,
     "metadata": {},
     "output_type": "execute_result"
    }
   ],
   "source": [
    "\n",
    "# 模块3：单纯形法的迭代\n",
    "def simplex_method(A, b, c, initial_basic):\n",
    "    \"\"\"\n",
    "    单纯形法的迭代求解\n",
    "    \"\"\"\n",
    "    if len(A.shape) == 1:\n",
    "        A = A.reshape(1, -1)\n",
    "    m, n = A.shape\n",
    "    # 初始化基解\n",
    "    x = initial_basic\n",
    "    # non_basic_vars = np.arange(n)\n",
    "    var_index = np.arange((n-m),n) \n",
    "    table = np.column_stack((A,b)) # 构建一张表,便于计算\n",
    "    zs = np.zeros(n+1)\n",
    "    for i in range(n):\n",
    "        zs[i] = c[i] - np.dot(c[var_index], table[:,i])\n",
    "    zs[n] = -np.dot(c[var_index], table[:,n])# 不去进行合并\n",
    "\n",
    "    while True:\n",
    "        in_index = np.argmin(zs[:-1]) # 找到系数最小的 ,但是不能是最后一个\n",
    "        if zs[in_index] >= 0:\n",
    "            x = np.zeros(n)\n",
    "            for i in range(m):\n",
    "                x[var_index[i]] = table[i,-1]\n",
    "            return x\n",
    "        t = np.array([table[i,-1] / table[i,in_index] if(abs(table[i,in_index])>1e-6) else 1e6 for i in range(m) ])\n",
    "        out_index = np.argmin(t) # var_index 中的, 以此为基础\n",
    "        var_index[out_index] = in_index\n",
    "\n",
    "        p = table[out_index, in_index] \n",
    "        table[out_index,:] = table[out_index,:] / p\n",
    "        for i in range(m):\n",
    "            if i == out_index:\n",
    "                continue\n",
    "            table[i] = table[i] - table[i,in_index] * table[out_index,:] # 处理每一行\n",
    "        # 更新zs 也即是temp \n",
    "        for i in range(n):\n",
    "            zs[i] = c[i] - np.dot(c[var_index], table[:,i])\n",
    "        zs[n] = -np.dot(c[var_index], table[:,n]) # 不去进行合并    \n",
    "\n",
    "simplex_method(A_aug,b, c_aug, init_basic)\n"
   ]
  },
  {
   "cell_type": "code",
   "execution_count": 7,
   "metadata": {},
   "outputs": [
    {
     "name": "stdout",
     "output_type": "stream",
     "text": [
      "[0.  0.  0.6 0.2 0. ]\n"
     ]
    }
   ],
   "source": [
    "import numpy as np\n",
    "\n",
    "def simplex_method_with_bland(A, b, c, initial_basic):\n",
    "    \"\"\"\n",
    "    单纯形法的迭代求解（带Bland's rule）\n",
    "    \"\"\"\n",
    "    m, n = A.shape\n",
    "    # 初始化基解\n",
    "    x = np.zeros(n)  # 初始化解向量\n",
    "    var_index = np.arange(n - m, n)  # 基变量的索引\n",
    "    table = np.column_stack((A, b))  # 构建单纯形表格\n",
    "    zs = np.zeros(n + 1)\n",
    "\n",
    "    # 初始化目标函数系数\n",
    "    for i in range(n):\n",
    "        zs[i] = c[i] - np.dot(c[var_index], table[:, i])\n",
    "    zs[n] = -np.dot(c[var_index], table[:, n])  # 更新目标函数常数项\n",
    "\n",
    "    while True:\n",
    "        # 1. 寻找最小的系数（入基变量）\n",
    "        in_index_candidates = np.where(zs[:-1] < 0)[0]  # 选择 c_i < 0 的所有非基变量\n",
    "        if len(in_index_candidates) == 0:  # 没有负值，说明已经找到了最优解\n",
    "            for i in range(m):\n",
    "                x[var_index[i]] = table[i, -1]\n",
    "            return x\n",
    "        \n",
    "        # 选择最小的下标作为入基变量（Bland's rule）\n",
    "        in_index = min(in_index_candidates)\n",
    "\n",
    "        # 2. 计算比率（离基变量）\n",
    "        t = np.array([table[i, -1] / table[i, in_index] if abs(table[i, in_index]) > 1e-6 else 1e6 for i in range(m)])\n",
    "        out_index_candidates = np.where(t == np.min(t))[0]  # 找到所有比率相同的行\n",
    "        out_index = min(out_index_candidates)  # 选择最小下标作为出基变量（Bland's rule）\n",
    "\n",
    "        # 3. 更新基变量和非基变量\n",
    "        var_index[out_index] = in_index\n",
    "\n",
    "        # 4. 对表格进行行变换，更新入基变量所在列\n",
    "        p = table[out_index, in_index]  # pivot element\n",
    "        table[out_index, :] /= p  # 将出基变量所在行除以pivot\n",
    "\n",
    "        # 对其他行进行高斯消元\n",
    "        for i in range(m):\n",
    "            if i != out_index:\n",
    "                table[i, :] -= table[i, in_index] * table[out_index, :]\n",
    "\n",
    "        # 5. 更新zs向量\n",
    "        for i in range(n):\n",
    "            zs[i] = c[i] - np.dot(c[var_index], table[:, i])\n",
    "        zs[n] = -np.dot(c[var_index], table[:, n])  # 更新目标函数常数项\n",
    "\n",
    "    return x\n",
    "\n",
    "A_aug = np.array([[1., 2., 3. ,1., 0. ],\n",
    "                  [2., 4. ,5., 0., 1.,]]) \n",
    "c_aug = np.array([-5.e+00 ,-3.e+00, 2, 1.e+06 ,1.e+06]) \n",
    "init_basic =np.array([0., 0., 0., 2., 3.])\n",
    "b = np.array([2, 3 ])\n",
    "x = simplex_method_with_bland(A_aug,b, c_aug, init_basic)\n",
    "print(x)"
   ]
  },
  {
   "cell_type": "code",
   "execution_count": null,
   "metadata": {},
   "outputs": [],
   "source": []
  }
 ],
 "metadata": {
  "kernelspec": {
   "display_name": "base",
   "language": "python",
   "name": "python3"
  },
  "language_info": {
   "codemirror_mode": {
    "name": "ipython",
    "version": 3
   },
   "file_extension": ".py",
   "mimetype": "text/x-python",
   "name": "python",
   "nbconvert_exporter": "python",
   "pygments_lexer": "ipython3",
   "version": "3.12.4"
  }
 },
 "nbformat": 4,
 "nbformat_minor": 2
}
